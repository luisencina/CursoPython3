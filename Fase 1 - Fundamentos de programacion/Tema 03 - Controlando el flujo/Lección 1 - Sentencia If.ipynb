{
 "cells": [
  {
   "cell_type": "code",
   "execution_count": 1,
   "metadata": {},
   "outputs": [
    {
     "name": "stdout",
     "output_type": "stream",
     "text": [
      "cumple\n"
     ]
    }
   ],
   "source": [
    "if True:\n",
    "    print(\"cumple\")"
   ]
  },
  {
   "cell_type": "code",
   "execution_count": 3,
   "metadata": {},
   "outputs": [
    {
     "name": "stdout",
     "output_type": "stream",
     "text": [
      "se cumple porque negamos false\n"
     ]
    }
   ],
   "source": [
    "if not False:\n",
    "    print(\"se cumple porque negamos false\") "
   ]
  },
  {
   "cell_type": "code",
   "execution_count": 4,
   "metadata": {},
   "outputs": [
    {
     "name": "stdout",
     "output_type": "stream",
     "text": [
      "a\n",
      "b\n"
     ]
    }
   ],
   "source": [
    "if True:\n",
    "    print(\"a\")\n",
    "    print(\"b\")"
   ]
  },
  {
   "cell_type": "code",
   "execution_count": 8,
   "metadata": {},
   "outputs": [
    {
     "name": "stdout",
     "output_type": "stream",
     "text": [
      "introduce una nota: 1\n",
      "insuficiente\n"
     ]
    }
   ],
   "source": [
    "nota = float(input(\"introduce una nota: \"))\n",
    "if(nota >= 9):\n",
    "    print(\"sobresaliente\")\n",
    "elif nota >= 7:\n",
    "    print(\"notable\")\n",
    "elif nota >=6:\n",
    "    print(\"bien\")\n",
    "elif nota >= 5:\n",
    "    print(\"suficiente\")\n",
    "else:\n",
    "    print(\"insuficiente\")"
   ]
  },
  {
   "cell_type": "code",
   "execution_count": 11,
   "metadata": {},
   "outputs": [
    {
     "name": "stdout",
     "output_type": "stream",
     "text": [
      "introduce una nota: 10\n",
      "sobresaliente\n",
      "notable\n",
      "bien\n",
      "suficiente\n"
     ]
    }
   ],
   "source": [
    "nota = float(input(\"introduce una nota: \")) ##manera incorrecta por las condiciones de los if\n",
    "if nota >= 9:\n",
    "    print(\"sobresaliente\")\n",
    "if nota >= 7:\n",
    "    print(\"notable\")\n",
    "if nota >=6:\n",
    "    print(\"bien\")\n",
    "if nota >= 5:\n",
    "    print(\"suficiente\")\n",
    "if nota < 5:\n",
    "    print(\"insuficiente\")"
   ]
  },
  {
   "cell_type": "code",
   "execution_count": 12,
   "metadata": {},
   "outputs": [
    {
     "name": "stdout",
     "output_type": "stream",
     "text": [
      "introduce una nota: 10\n",
      "sobresaliente\n"
     ]
    }
   ],
   "source": [
    "nota = float(input(\"introduce una nota: \")) ##manera incorrecta por las condiciones de los if\n",
    "if nota >= 9:\n",
    "    print(\"sobresaliente\")\n",
    "if nota >= 7 and nota < 9:\n",
    "    print(\"notable\")\n",
    "if nota >=6 and nota < 7:\n",
    "    print(\"bien\")\n",
    "if nota >= 5 and nota < 6:\n",
    "    print(\"suficiente\")\n",
    "if nota < 5:\n",
    "    print(\"insuficiente\")"
   ]
  },
  {
   "cell_type": "code",
   "execution_count": 15,
   "metadata": {},
   "outputs": [],
   "source": [
    "if True: ##con pass no hace nada, es para armar un esqueleto\n",
    "    pass"
   ]
  },
  {
   "cell_type": "code",
   "execution_count": null,
   "metadata": {},
   "outputs": [],
   "source": []
  },
  {
   "cell_type": "code",
   "execution_count": null,
   "metadata": {},
   "outputs": [],
   "source": []
  },
  {
   "cell_type": "code",
   "execution_count": null,
   "metadata": {},
   "outputs": [],
   "source": []
  },
  {
   "cell_type": "code",
   "execution_count": null,
   "metadata": {},
   "outputs": [],
   "source": []
  },
  {
   "cell_type": "code",
   "execution_count": null,
   "metadata": {},
   "outputs": [],
   "source": []
  },
  {
   "cell_type": "code",
   "execution_count": null,
   "metadata": {},
   "outputs": [],
   "source": []
  },
  {
   "cell_type": "code",
   "execution_count": null,
   "metadata": {},
   "outputs": [],
   "source": []
  }
 ],
 "metadata": {
  "kernelspec": {
   "display_name": "Python 3",
   "language": "python",
   "name": "python3"
  },
  "language_info": {
   "codemirror_mode": {
    "name": "ipython",
    "version": 3
   },
   "file_extension": ".py",
   "mimetype": "text/x-python",
   "name": "python",
   "nbconvert_exporter": "python",
   "pygments_lexer": "ipython3",
   "version": "3.7.4"
  }
 },
 "nbformat": 4,
 "nbformat_minor": 1
}
