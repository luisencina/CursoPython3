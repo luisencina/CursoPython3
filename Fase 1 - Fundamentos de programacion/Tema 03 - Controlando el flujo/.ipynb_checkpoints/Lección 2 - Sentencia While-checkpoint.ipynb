{
 "cells": [
  {
   "cell_type": "code",
   "execution_count": 1,
   "metadata": {},
   "outputs": [
    {
     "name": "stdout",
     "output_type": "stream",
     "text": [
      "c vale:  1\n",
      "c vale:  2\n",
      "c vale:  3\n",
      "c vale:  4\n",
      "c vale:  5\n"
     ]
    }
   ],
   "source": [
    "c = 0\n",
    "while c < 5:\n",
    "    c+=1\n",
    "    print(\"c vale: \",c)"
   ]
  },
  {
   "cell_type": "code",
   "execution_count": 2,
   "metadata": {},
   "outputs": [
    {
     "name": "stdout",
     "output_type": "stream",
     "text": [
      "c vale:  1\n",
      "c vale:  2\n",
      "c vale:  3\n",
      "c vale:  4\n",
      "c vale:  5\n",
      "se ha completado toda la iteracion y c vale  5\n"
     ]
    }
   ],
   "source": [
    "c = 0\n",
    "while c < 5:\n",
    "    c+=1\n",
    "    print(\"c vale: \",c)\n",
    "else:\n",
    "    print(\"se ha completado toda la iteracion y c vale \",c)"
   ]
  },
  {
   "cell_type": "code",
   "execution_count": 6,
   "metadata": {},
   "outputs": [
    {
     "name": "stdout",
     "output_type": "stream",
     "text": [
      "c vale:  1\n",
      "c vale:  2\n",
      "c vale:  3\n",
      "rompemos el bucle cuando c vale  4\n"
     ]
    }
   ],
   "source": [
    "c = 0\n",
    "while c < 5:\n",
    "    c+=1\n",
    "    if (c == 4):\n",
    "        print(\"rompemos el bucle cuando c vale \", c)\n",
    "        break\n",
    "    print(\"c vale: \",c)\n",
    "    \n",
    "else:\n",
    "    print(\"se ha completado toda la iteracion y c vale \",c)"
   ]
  },
  {
   "cell_type": "code",
   "execution_count": 7,
   "metadata": {},
   "outputs": [
    {
     "name": "stdout",
     "output_type": "stream",
     "text": [
      "c vale:  1\n",
      "c vale:  2\n",
      "c vale:  3\n",
      "continuamos y c vale  4\n",
      "c vale:  5\n",
      "se ha completado toda la iteracion y c vale  5\n"
     ]
    }
   ],
   "source": [
    "c = 0\n",
    "while c < 5:\n",
    "    c+=1\n",
    "    if (c == 4):\n",
    "        print(\"continuamos y c vale \", c)\n",
    "        continue\n",
    "    print(\"c vale: \",c)\n",
    "    \n",
    "else:\n",
    "    print(\"se ha completado toda la iteracion y c vale \",c)"
   ]
  },
  {
   "cell_type": "code",
   "execution_count": null,
   "metadata": {},
   "outputs": [],
   "source": []
  },
  {
   "cell_type": "code",
   "execution_count": null,
   "metadata": {},
   "outputs": [],
   "source": [
    "print(\"Bienvenido al menu interactivo\")\n",
    "while(True):\n",
    "    print(\"\"\"Que Quieres hacer? Escribe una opcion\n",
    "    1- Saludar\n",
    "    2- Sumar dos numeros\n",
    "    3 Salir\"\"\")\n",
    "    option = input()\n",
    "    if option == '1':\n",
    "        print(\"Hola, espero que te lo estes pasando bien\")\n",
    "    elif option == '2':\n",
    "        n1 = float(input(\"introduce el primer numero\"))\n",
    "        n2 = float(input(\"introduce el segundo numero\"))\n",
    "        print(\"el resultado de la suma es \", n1+n2)\n",
    "    elif option == '3':\n",
    "        print(\"hasta luego\")\n",
    "        break\n",
    "    else:\n",
    "        print(\"comando desconocido, vuelve a intentarlo\")\n",
    "        "
   ]
  },
  {
   "cell_type": "code",
   "execution_count": null,
   "metadata": {},
   "outputs": [],
   "source": []
  },
  {
   "cell_type": "code",
   "execution_count": null,
   "metadata": {},
   "outputs": [],
   "source": []
  },
  {
   "cell_type": "code",
   "execution_count": null,
   "metadata": {},
   "outputs": [],
   "source": []
  },
  {
   "cell_type": "code",
   "execution_count": null,
   "metadata": {},
   "outputs": [],
   "source": []
  },
  {
   "cell_type": "code",
   "execution_count": null,
   "metadata": {},
   "outputs": [],
   "source": []
  },
  {
   "cell_type": "code",
   "execution_count": null,
   "metadata": {},
   "outputs": [],
   "source": []
  },
  {
   "cell_type": "code",
   "execution_count": null,
   "metadata": {},
   "outputs": [],
   "source": []
  },
  {
   "cell_type": "code",
   "execution_count": null,
   "metadata": {},
   "outputs": [],
   "source": []
  },
  {
   "cell_type": "code",
   "execution_count": null,
   "metadata": {},
   "outputs": [],
   "source": []
  },
  {
   "cell_type": "code",
   "execution_count": null,
   "metadata": {},
   "outputs": [],
   "source": []
  }
 ],
 "metadata": {
  "kernelspec": {
   "display_name": "Python 3",
   "language": "python",
   "name": "python3"
  },
  "language_info": {
   "codemirror_mode": {
    "name": "ipython",
    "version": 3
   },
   "file_extension": ".py",
   "mimetype": "text/x-python",
   "name": "python",
   "nbconvert_exporter": "python",
   "pygments_lexer": "ipython3",
   "version": "3.7.4"
  }
 },
 "nbformat": 4,
 "nbformat_minor": 1
}
